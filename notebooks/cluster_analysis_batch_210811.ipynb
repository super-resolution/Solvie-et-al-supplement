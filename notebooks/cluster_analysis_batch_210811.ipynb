{
 "cells": [
  {
   "cell_type": "markdown",
   "metadata": {},
   "source": [
    "# Cluster analysis (batch/pipeline)"
   ]
  },
  {
   "cell_type": "markdown",
   "metadata": {},
   "source": [
    "11.8.2021 (8.9.2022) Sören Doose"
   ]
  },
  {
   "cell_type": "markdown",
   "metadata": {},
   "source": [
    "## Initial setup"
   ]
  },
  {
   "cell_type": "code",
   "execution_count": null,
   "metadata": {},
   "outputs": [],
   "source": [
    "import sys\n",
    "from pathlib import Path\n",
    "import re\n",
    "import pickle\n",
    "import logging\n",
    "\n",
    "%matplotlib inline\n",
    "\n",
    "import numpy as np\n",
    "import pandas as pd\n",
    "import matplotlib.pyplot as plt\n",
    "from scipy import stats\n",
    "from tqdm.notebook import tqdm\n",
    "import seaborn as sns\n",
    "import plotly.express as px\n",
    "from plotly.subplots import make_subplots\n",
    "import plotly.graph_objects as go\n",
    "\n",
    "import locan as lc"
   ]
  },
  {
   "cell_type": "code",
   "execution_count": null,
   "metadata": {},
   "outputs": [],
   "source": [
    "lc.show_versions(dependencies=False)"
   ]
  },
  {
   "cell_type": "code",
   "execution_count": null,
   "metadata": {},
   "outputs": [],
   "source": [
    "logging.basicConfig(stream=sys.stdout, level=logging.INFO, format='%(asctime)s - %(name)s - %(levelname)s - %(message)s')\n",
    "logger = logging.getLogger()"
   ]
  },
  {
   "cell_type": "markdown",
   "metadata": {},
   "source": [
    "## File list"
   ]
  },
  {
   "cell_type": "markdown",
   "metadata": {},
   "source": [
    "The dataset should have been corrected for drift and chromatic abberation."
   ]
  },
  {
   "cell_type": "markdown",
   "metadata": {},
   "source": [
    "Set the directory in which a set of localization files is found."
   ]
  },
  {
   "cell_type": "code",
   "execution_count": null,
   "metadata": {},
   "outputs": [],
   "source": [
    "directory = Path(r'.') / '../data/Titration'\n",
    "assert directory.exists()"
   ]
  },
  {
   "cell_type": "code",
   "execution_count": null,
   "metadata": {
    "tags": []
   },
   "outputs": [],
   "source": [
    "files = list(directory.glob('**/*.yaml'))\n",
    "print(f'Number of files: {len(files)}')\n",
    "for i, file in enumerate(files):\n",
    "    print(i,\":\", file);"
   ]
  },
  {
   "cell_type": "markdown",
   "metadata": {},
   "source": [
    "## Set up the pipeline"
   ]
  },
  {
   "cell_type": "code",
   "execution_count": null,
   "metadata": {},
   "outputs": [],
   "source": [
    "def computation(self, file):\n",
    "    \"\"\"\n",
    "    Analysis procedure on a LocData object specified by file.\n",
    "    \n",
    "    Parameters\n",
    "    ----------\n",
    "    self : Pipeline\n",
    "        Pipeline object that collects results of the analysis procedure.\n",
    "    file : str\n",
    "        File path for roi-file.\n",
    "        \n",
    "    Returns\n",
    "    -------\n",
    "    Pipeline\n",
    "        The Pipeline object specified by `self`.\n",
    "    \"\"\"    \n",
    "    # Prologue\n",
    "    self.file_indicator = Path(file) #.stem\n",
    "    \n",
    "    # Load locdata\n",
    "    logger.debug(f'Loading')\n",
    "    roi = lc.Roi.from_yaml(path=file)\n",
    "    roi.reference.file_path = str(Path(file)\n",
    "                              .relative_to(Path('.'))\n",
    "                              .with_name(Path(roi.reference.file_path).name)\n",
    "                             )\n",
    "    locdata = roi.locdata()\n",
    "    \n",
    "    # Prerequisites\n",
    "    if not len(locdata)>1:\n",
    "        logger.info(f'Not enough data in file: {file}')\n",
    "        return None\n",
    "    \n",
    "    # Select\n",
    "    condition = '0 < frame < 15_000 and ' \\\n",
    "                '8000 < intensity'\n",
    "    locdata = lc.select_by_condition(locdata, condition=condition)\n",
    "    \n",
    "    # compute cluster\n",
    "    logger.debug('Processing Cluster')\n",
    "    self.noise, self.clust = lc.cluster_dbscan(locdata, eps=20, min_samples=3)\n",
    "    \n",
    "    # add properties\n",
    "    for reference in self.clust.references:\n",
    "        reference.properties['intensity'] = reference.data.intensity.sum()\n",
    "        reference.properties['intensity_mean'] = reference.data.intensity.mean()\n",
    "        reference.properties['local_background_mean'] = reference.data.local_background.mean()\n",
    "        reference.properties['frame_mean'] = reference.data.frame.mean()\n",
    "        reference.properties['frame_std'] = reference.data.frame.std()\n",
    "        \n",
    "    new_df = pd.DataFrame([reference.properties for reference in self.clust.references])\n",
    "    new_df.index = self.clust.data.index\n",
    "    self.clust.dataframe.update(new_df)\n",
    "    new_columns = [column for column in new_df.columns if column in self.clust.dataframe.columns]\n",
    "    new_df.drop(columns=new_columns, inplace=True, errors='ignore')\n",
    "    self.clust.dataframe = pd.concat([self.clust.dataframe, new_df], axis=1)\n",
    "    \n",
    "    # compute convex hull\n",
    "    logger.debug('Processing convex hulls')\n",
    "    self.clust.update_convex_hulls_in_references()\n",
    "    self.clust.data.fillna(0, inplace=True)\n",
    "    \n",
    "    # select cluster\n",
    "    logger.debug('Processing Cluster Selection')\n",
    "    if self.clust.data.empty:\n",
    "        self.clust_selection = self.clust\n",
    "    else:\n",
    "        condition = '0 < localization_count and ' \\\n",
    "                    '0 < region_measure_ch'\n",
    "        self.clust_selection = lc.select_by_condition(self.clust, condition=condition)\n",
    "        references_ = [self.clust.references[i] for i in self.clust_selection.indices]\n",
    "        self.clust_selection.reduce()\n",
    "        self.clust_selection.references = references_\n",
    "\n",
    "    logger.debug('Processing Properties')\n",
    "    if self.clust_selection.data.empty:\n",
    "        # LocalizationProperty\n",
    "        self.lp_localization_count = None\n",
    "        self.lp_region_measure_ch = None\n",
    "\n",
    "        # Scalar properties\n",
    "        self.n_locs_in_cluster = np.nan\n",
    "        self.n_locs_in_cluster_relative = np.nan\n",
    "    \n",
    "    else:\n",
    "        # LocalizationProperty\n",
    "        self.lp_localization_count = lc.LocalizationProperty(loc_property='localization_count').compute(self.clust_selection)\n",
    "        self.lp_region_measure_ch = lc.LocalizationProperty(loc_property='region_measure_ch').compute(self.clust_selection)\n",
    "\n",
    "        # Scalar properties\n",
    "        self.n_locs_in_cluster = self.clust_selection.data['localization_count'].sum()\n",
    "        self.n_locs_in_cluster_relative = self.n_locs_in_cluster / len(locdata)\n",
    "\n",
    "    logger.debug(f'Computation completed for: {file}')\n",
    "            \n",
    "    return self"
   ]
  },
  {
   "cell_type": "markdown",
   "metadata": {},
   "source": [
    "## Run pipeline"
   ]
  },
  {
   "cell_type": "code",
   "execution_count": null,
   "metadata": {},
   "outputs": [],
   "source": [
    "logger.setLevel(logging.INFO)  # alternative logging.WARNING"
   ]
  },
  {
   "cell_type": "raw",
   "metadata": {
    "tags": []
   },
   "source": [
    "%%time\n",
    "def worker(i, file):\n",
    "    logging.basicConfig(level=logging.INFO)\n",
    "    logger.info(f'Processing {i} : {file}')\n",
    "    try:\n",
    "        pipe = lc.Pipeline(computation=computation, file=file).compute()\n",
    "        return pipe\n",
    "    except Exception as e:\n",
    "        raise(e)\n",
    "        logger.warning(f'Error in {file}')\n",
    "        return None\n",
    "\n",
    "pipes = [worker(i, file) for i, file in tqdm(enumerate(files[0:10]), desc='Processed files:')]\n",
    "print(f'Number of pipes: {len(pipes)}')"
   ]
  },
  {
   "cell_type": "markdown",
   "metadata": {},
   "source": [
    "## Multiprocessing with ray"
   ]
  },
  {
   "cell_type": "raw",
   "metadata": {},
   "source": [
    "ray.shutdown()"
   ]
  },
  {
   "cell_type": "code",
   "execution_count": null,
   "metadata": {},
   "outputs": [],
   "source": [
    "import ray\n",
    "\n",
    "ray.init()\n",
    "# ray.init(num_cpus = 4)"
   ]
  },
  {
   "cell_type": "code",
   "execution_count": null,
   "metadata": {
    "tags": []
   },
   "outputs": [],
   "source": [
    "%%time\n",
    "@ray.remote\n",
    "def worker(i, file):\n",
    "    logging.basicConfig(level=logging.INFO)\n",
    "    logger.info(f'Processing {i} : {file}')\n",
    "    try:\n",
    "        pipe = lc.Pipeline(computation=computation, file=file).compute()\n",
    "        return pipe\n",
    "    except Exception as e:\n",
    "        logger.warning(f'Error in {file}: \\n {e}')\n",
    "        return None\n",
    "\n",
    "futures = [worker.remote(i, file) for i, file in enumerate(files)]\n",
    "pipes = ray.get(futures)\n",
    "print(f'Number of pipes: {len(pipes)}')"
   ]
  },
  {
   "cell_type": "markdown",
   "metadata": {},
   "source": [
    "### Pipeline attributes"
   ]
  },
  {
   "cell_type": "code",
   "execution_count": null,
   "metadata": {},
   "outputs": [],
   "source": [
    "[attr for attr in dir(pipes[0]) if not attr.startswith('__') and not attr.endswith('__')]"
   ]
  },
  {
   "cell_type": "markdown",
   "metadata": {},
   "source": [
    "## Save pickled pipes"
   ]
  },
  {
   "cell_type": "raw",
   "metadata": {},
   "source": [
    "pickle_directory = Path('.') / '../pickled_results'\n",
    "assert pickle_directory.exists()"
   ]
  },
  {
   "cell_type": "raw",
   "metadata": {
    "tags": []
   },
   "source": [
    "for i, pipe in enumerate(pipes):\n",
    "    file_path = pickle_directory / f'Cluster_pipelines_{i:03}.pickle'\n",
    "    # inject computation to be pickleable\n",
    "    pipe.computation = computation\n",
    "    pipe.parameter['computation'] = computation\n",
    "    with open(file_path, 'wb') as file:\n",
    "        pickle.dump(pipe, file, pickle.HIGHEST_PROTOCOL)"
   ]
  },
  {
   "cell_type": "markdown",
   "metadata": {},
   "source": [
    "## Load pickled pipes"
   ]
  },
  {
   "cell_type": "raw",
   "metadata": {},
   "source": [
    "pickle_files = list(pickle_directory.glob('Cluster_pipelines_*.pickle'))\n",
    "assert pickle_files"
   ]
  },
  {
   "cell_type": "raw",
   "metadata": {},
   "source": [
    "pipes = []\n",
    "for file_path in pickle_files:\n",
    "    with open(file_path, 'rb') as file:\n",
    "        pipes.append(pickle.load(file))\n",
    "print(f'Number of pipes: {len(pipes)}')"
   ]
  },
  {
   "cell_type": "markdown",
   "metadata": {},
   "source": [
    "## Data presentation"
   ]
  },
  {
   "cell_type": "markdown",
   "metadata": {},
   "source": [
    "### Remove None from pipes"
   ]
  },
  {
   "cell_type": "code",
   "execution_count": null,
   "metadata": {},
   "outputs": [],
   "source": [
    "print(f'Number of pipes: {len(pipes)}')\n",
    "pipes = [pipe for pipe in pipes if pipe]\n",
    "print(f'Number of pipes that are not None: {len(pipes)}')"
   ]
  },
  {
   "cell_type": "markdown",
   "metadata": {},
   "source": [
    "### Extract from pipes"
   ]
  },
  {
   "cell_type": "code",
   "execution_count": null,
   "metadata": {},
   "outputs": [],
   "source": [
    "def collect_scalars(pipelines):\n",
    "    \"\"\"\n",
    "    Collect scalar properties from Pipeline objects and assemble them in a pandas.DataFrame.\n",
    "    \n",
    "    Parameters\n",
    "    ----------\n",
    "    pipelines : list(Pipeline)\n",
    "        Pipeline objects.\n",
    "        \n",
    "    Returns\n",
    "    -------\n",
    "    pandas.DataFrame\n",
    "    \"\"\"\n",
    "    dictionaries = []\n",
    "    for pipe in tqdm(pipelines, desc='Processed pipelines:'):\n",
    "\n",
    "        new_dict = {\n",
    "            'files': pipe.file_indicator\n",
    "            }\n",
    "        new_dict.update(cluster_count=pipe.clust_selection.properties['localization_count'])\n",
    "        new_dict.update(cluster_density=pipe.clust_selection.properties['localization_density'])\n",
    "        new_dict.update(n_locs_in_cluster_relative=pipe.n_locs_in_cluster_relative)\n",
    "\n",
    "        if pipe.clust_selection.properties['localization_count']==0:\n",
    "            new_dict.update(localization_count_mean=np.nan)\n",
    "            new_dict.update(region_measure_ch_mean=np.nan)\n",
    "            new_dict.update(localization_density_in_cluster_mean=np.nan)\n",
    "            new_dict.update(localization_density_in_cluster_mean=np.nan)\n",
    "\n",
    "        else:\n",
    "            new_dict.update(localization_count_mean=pipe.clust_selection.data['localization_count'].mean())\n",
    "            new_dict.update(region_measure_ch_mean=pipe.clust_selection.data['region_measure_ch'].mean()) \n",
    "            new_dict.update(localization_density_in_cluster_mean=pipe.clust_selection.data['localization_density_ch'].mean()) \n",
    "            new_dict.update(localization_density_in_cluster_mean=pipe.clust_selection.data['localization_density_ch'].mean())\n",
    "            new_dict.update(intensity_sum_mean=pipe.clust_selection.data['intensity'].mean())\n",
    "            new_dict.update(intensity_mean_mean=pipe.clust_selection.data['intensity_mean'].mean())\n",
    "            new_dict.update(local_background_mean_mean=pipe.clust_selection.data['local_background_mean'].mean())\n",
    "        \n",
    "        dictionaries.append(new_dict)\n",
    "        \n",
    "    return pd.DataFrame(dictionaries)"
   ]
  },
  {
   "cell_type": "code",
   "execution_count": null,
   "metadata": {},
   "outputs": [],
   "source": [
    "scalars_df = collect_scalars(pipes)"
   ]
  },
  {
   "cell_type": "code",
   "execution_count": null,
   "metadata": {},
   "outputs": [],
   "source": [
    "scalars_df.head()"
   ]
  },
  {
   "cell_type": "markdown",
   "metadata": {},
   "source": [
    "## Compare for files"
   ]
  },
  {
   "cell_type": "markdown",
   "metadata": {},
   "source": [
    "Reduce the file name to group identifier - here buffer:"
   ]
  },
  {
   "cell_type": "code",
   "execution_count": null,
   "metadata": {},
   "outputs": [],
   "source": [
    "choices = ['*5ng*',\n",
    "           '*0-005*']\n",
    "\n",
    "choices_name =  ['dense',\n",
    "                 'sparse']\n",
    "   \n",
    "conditions = [[f.match(name) for f in scalars_df['files']] for name in choices]\n",
    "scalars_df['sample'] = np.select(conditions, choices_name, default=None)"
   ]
  },
  {
   "cell_type": "code",
   "execution_count": null,
   "metadata": {},
   "outputs": [],
   "source": [
    "grouped = scalars_df.groupby('sample')"
   ]
  },
  {
   "cell_type": "code",
   "execution_count": null,
   "metadata": {
    "tags": []
   },
   "outputs": [],
   "source": [
    "assert all([group in choices_name for group in list(grouped.groups)])\n",
    "list(grouped.groups)"
   ]
  },
  {
   "cell_type": "markdown",
   "metadata": {},
   "source": [
    "### Descriptive statistics"
   ]
  },
  {
   "cell_type": "markdown",
   "metadata": {},
   "source": [
    "#### Mean values:"
   ]
  },
  {
   "cell_type": "code",
   "execution_count": null,
   "metadata": {},
   "outputs": [],
   "source": [
    "grouped.size()"
   ]
  },
  {
   "cell_type": "code",
   "execution_count": null,
   "metadata": {},
   "outputs": [],
   "source": [
    "grouped.mean()"
   ]
  },
  {
   "cell_type": "code",
   "execution_count": null,
   "metadata": {},
   "outputs": [],
   "source": [
    "grouped.median()"
   ]
  },
  {
   "cell_type": "code",
   "execution_count": null,
   "metadata": {},
   "outputs": [],
   "source": [
    "grouped.sem()"
   ]
  },
  {
   "cell_type": "markdown",
   "metadata": {},
   "source": [
    "### Statistical plots"
   ]
  },
  {
   "cell_type": "code",
   "execution_count": null,
   "metadata": {},
   "outputs": [],
   "source": [
    "scalars_df.columns"
   ]
  },
  {
   "cell_type": "code",
   "execution_count": null,
   "metadata": {},
   "outputs": [],
   "source": [
    "blacklist = [\n",
    "    'files',\n",
    "    'sample'\n",
    "]\n",
    "columns_of_interest = [column for column in scalars_df.columns if column not in blacklist]\n",
    "columns_of_interest"
   ]
  },
  {
   "cell_type": "code",
   "execution_count": null,
   "metadata": {
    "tags": []
   },
   "outputs": [],
   "source": [
    "n_elements = len(columns_of_interest)\n",
    "n_cols = 1\n",
    "n_rows = -(-n_elements // n_cols)\n",
    "\n",
    "fig = make_subplots(rows=n_rows, cols=n_cols, subplot_titles=columns_of_interest, vertical_spacing=0.01)\n",
    "\n",
    "colors = px.colors.qualitative.T10 * 5\n",
    "assert len(colors) >= len(grouped)\n",
    "\n",
    "for column, indices in zip(columns_of_interest, lc.iterate_2d_array(n_elements, n_cols)):\n",
    "    for (key, value), color in zip(grouped[column], colors):\n",
    "        fig.add_trace(\n",
    "            go.Box(x=value, name=key, boxpoints='all', marker_size=5, width=0.5, marker_color =color),\n",
    "            row=indices[0]+1, col=indices[1]+1\n",
    "            )\n",
    "        fig.update_layout(boxmode='group', showlegend=False)\n",
    "\n",
    "fig.update_layout(height=12_000, width=1000, title_text=\"Averaged properties for each experimental group\")\n",
    "go.FigureWidget(fig).show()"
   ]
  },
  {
   "cell_type": "raw",
   "metadata": {},
   "source": [
    "# Save values from selected group:\n",
    "\n",
    "df = pd.DataFrame()\n",
    "collection = []\n",
    "for key, value in grouped['cluster_density']:\n",
    "    value.name = key\n",
    "    value = value.reset_index(drop=True)\n",
    "    collection.append(value)\n",
    "    \n",
    "df = pd.concat(collection, ignore_index=False, axis=1)\n",
    "df.to_csv('./cluster_density_group_values.csv')"
   ]
  },
  {
   "cell_type": "markdown",
   "metadata": {},
   "source": [
    "## Grouped number of localizations per cluster"
   ]
  },
  {
   "cell_type": "code",
   "execution_count": null,
   "metadata": {},
   "outputs": [],
   "source": [
    "def get_concatenated_dataframe(pipes, grouped, property):\n",
    "    results_dict = {}\n",
    "    for name, group in grouped:\n",
    "        series = pd.Series(dtype=np.float64)\n",
    "        for i in group.index:\n",
    "            if pipes[i].clust_selection.properties['localization_count']>0:\n",
    "                new_series = pipes[i].clust_selection.data[property]\n",
    "                series = series.append(new_series, ignore_index=True)\n",
    "        results_dict[name] = series\n",
    "    return pd.DataFrame(results_dict)"
   ]
  },
  {
   "cell_type": "code",
   "execution_count": null,
   "metadata": {},
   "outputs": [],
   "source": [
    "property = 'localization_count'\n",
    "df = get_concatenated_dataframe(pipes, grouped, property)\n",
    "df.hist(bins=100, log=True, figsize=(20, 10), density=True);\n",
    "plt.tight_layout()"
   ]
  },
  {
   "cell_type": "code",
   "execution_count": null,
   "metadata": {},
   "outputs": [],
   "source": [
    "property = 'localization_count'\n",
    "df = get_concatenated_dataframe(pipes, grouped, property)\n",
    "plt.hist(df, bins=40, density=True, log=True);"
   ]
  },
  {
   "cell_type": "code",
   "execution_count": null,
   "metadata": {},
   "outputs": [],
   "source": [
    "property = 'localization_count'\n",
    "df = get_concatenated_dataframe(pipes, grouped, property)\n",
    "plt.hist(df, bins=np.linspace(0, 100, 20), density=True, log=True);"
   ]
  },
  {
   "cell_type": "code",
   "execution_count": null,
   "metadata": {},
   "outputs": [],
   "source": [
    "property = 'localization_count'\n",
    "df = get_concatenated_dataframe(pipes, grouped, property)\n",
    "df.hist(bins=np.linspace(0,100,100), log=True, figsize=(20, 10), density=True);\n",
    "plt.tight_layout()"
   ]
  },
  {
   "cell_type": "code",
   "execution_count": null,
   "metadata": {},
   "outputs": [],
   "source": [
    "property = 'localization_count'\n",
    "df = get_concatenated_dataframe(pipes, grouped, property)\n",
    "df.hist(bins=np.linspace(0,50,50), log=False, figsize=(20, 10), density=True);\n",
    "plt.tight_layout()"
   ]
  },
  {
   "cell_type": "markdown",
   "metadata": {},
   "source": [
    "### Ratio of cluster above a certain size"
   ]
  },
  {
   "cell_type": "code",
   "execution_count": null,
   "metadata": {},
   "outputs": [],
   "source": [
    "threshold = 100\n",
    "large_spot_ratio = len(df.dense[df.dense > threshold]) / len(df.dense)\n",
    "round(large_spot_ratio, ndigits=5)"
   ]
  },
  {
   "cell_type": "markdown",
   "metadata": {},
   "source": [
    "### Localizations in cluster above a certain size"
   ]
  },
  {
   "cell_type": "code",
   "execution_count": null,
   "metadata": {},
   "outputs": [],
   "source": [
    "threshold = 1100\n",
    "\n",
    "large_spot_localization_ratio =df.dense[df.dense > threshold].sum() / df.dense.sum()\n",
    "round(large_spot_localization_ratio, ndigits=5)"
   ]
  },
  {
   "cell_type": "markdown",
   "metadata": {},
   "source": [
    "### Cummulative locs"
   ]
  },
  {
   "cell_type": "code",
   "execution_count": null,
   "metadata": {},
   "outputs": [],
   "source": [
    "property = 'localization_count'\n",
    "df = get_concatenated_dataframe(pipes, grouped, property)\n",
    "plt.hist(df, bins=1000, density=True, log=False, cumulative=True, weights=df, histtype='step', linewidth=2);\n",
    "ax = plt.gca()\n",
    "ax.set_xlabel(r'localizations per cluster')\n",
    "ax.set_ylabel(r\"cdf weighted by Localizations per cluster\");"
   ]
  },
  {
   "cell_type": "code",
   "execution_count": null,
   "metadata": {},
   "outputs": [],
   "source": [
    "property = 'localization_count'\n",
    "df = get_concatenated_dataframe(pipes, grouped, property)\n",
    "\n",
    "hist, bins = np.histogram(df.dense, bins=100)\n",
    "logbins = np.logspace(np.log10(bins[0]), np.log10(bins[-1]), len(bins))\n",
    "\n",
    "plt.hist(df, bins=logbins, density=True, log=False, cumulative=True, weights=df, histtype='step', linewidth=2);\n",
    "plt.xscale('log')"
   ]
  },
  {
   "cell_type": "code",
   "execution_count": null,
   "metadata": {},
   "outputs": [],
   "source": [
    "property = 'localization_count'\n",
    "df = get_concatenated_dataframe(pipes, grouped, property)\n",
    "plt.hist(df, bins=np.linspace(0, 100, 100), density=True, log=False, cumulative=True, weights=df, histtype='step', linewidth=2);"
   ]
  },
  {
   "cell_type": "markdown",
   "metadata": {},
   "source": [
    "## Publication Figures"
   ]
  },
  {
   "cell_type": "raw",
   "metadata": {},
   "source": [
    "figures_directory = Path('.') / '../figures'\n",
    "assert figures_directory.exists()"
   ]
  },
  {
   "cell_type": "markdown",
   "metadata": {},
   "source": [
    "#### plot localization_count"
   ]
  },
  {
   "cell_type": "code",
   "execution_count": null,
   "metadata": {},
   "outputs": [],
   "source": [
    "df_simulation = pd.read_csv(\"simulated_dense_myc_clust.csv\")\n",
    "df_simulation"
   ]
  },
  {
   "cell_type": "code",
   "execution_count": null,
   "metadata": {},
   "outputs": [],
   "source": [
    "property = 'localization_count'\n",
    "df = get_concatenated_dataframe(pipes, grouped, property)\n",
    "\n",
    "with plt.style.context('./publication_histogram.mplstyle'):\n",
    "    fig, ax = plt.subplots()\n",
    "    ax.hist([df['sparse'], df.dense, df_simulation.localization_count], bins=np.linspace(0, 100, 10), density=True, log=True);"
   ]
  },
  {
   "cell_type": "raw",
   "metadata": {},
   "source": [
    "fig.savefig(figures_directory / 'Cluster_locs_histogram_inset.pdf', dpi=1200, bbox_inches='tight') "
   ]
  },
  {
   "cell_type": "code",
   "execution_count": null,
   "metadata": {},
   "outputs": [],
   "source": [
    "property = 'localization_count'\n",
    "df = get_concatenated_dataframe(pipes, grouped, property)\n",
    "\n",
    "with plt.style.context('./publication_histogram.mplstyle'):\n",
    "    fig, ax = plt.subplots()\n",
    "    ax.hist([df['sparse'], df.dense, df_simulation.localization_count], bins=20, density=True, log=True);\n",
    "    ax = plt.gca()\n",
    "    ax.set_xlabel(r'localizations per cluster')\n",
    "    ax.set_ylabel(r\"pdf\")"
   ]
  },
  {
   "cell_type": "code",
   "execution_count": null,
   "metadata": {},
   "outputs": [],
   "source": [
    "property = 'localization_count'\n",
    "df = get_concatenated_dataframe(pipes, grouped, property)\n",
    "\n",
    "hist, bins = np.histogram(df.dense, bins=20)\n",
    "logbins = np.logspace(np.log10(bins[0]), np.log10(bins[-1]), len(bins))\n",
    "\n",
    "with plt.style.context('./publication_histogram.mplstyle'):\n",
    "    fig, ax = plt.subplots()\n",
    "    ax.hist([df['sparse'], df.dense, df_simulation.localization_count], bins=logbins, density=True, log=True);\n",
    "    ax = plt.gca()\n",
    "    plt.xscale('log')\n",
    "    ax.set_xlabel(r'localizations per cluster')\n",
    "    ax.set_ylabel(r\"pdf\")"
   ]
  },
  {
   "cell_type": "raw",
   "metadata": {},
   "source": [
    "fig.savefig(figures_directory / 'Cluster_locs_histogram.pdf', dpi=1200, bbox_inches='tight') "
   ]
  },
  {
   "cell_type": "code",
   "execution_count": null,
   "metadata": {},
   "outputs": [],
   "source": [
    "property = 'localization_count'\n",
    "df = get_concatenated_dataframe(pipes, grouped, property)\n",
    "\n",
    "with plt.style.context('./publication_histogram.mplstyle'):\n",
    "    fig, ax = plt.subplots(figsize=(7.2, 5.8))\n",
    "    plt.hist([df['sparse'], df.dense, df_simulation.localization_count], bins=1000, density=True, log=False, cumulative=True, weights=[df['sparse'], df.dense, df_simulation.localization_count], histtype='step', linewidth=4);\n",
    "    ax = plt.gca()\n",
    "    ax.set_xlim(-200, 4200)\n",
    "    ax.set_xlabel(r'localizations per cluster')\n",
    "    ax.set_ylabel(r\"weighted cdf\")"
   ]
  },
  {
   "cell_type": "raw",
   "metadata": {},
   "source": [
    "fig.savefig(figures_directory / 'Cluster_locs_histogram_cdf.pdf', dpi=1200, bbox_inches='tight') "
   ]
  }
 ],
 "metadata": {
  "kernelspec": {
   "display_name": "Python 3 (ipykernel)",
   "language": "python",
   "name": "python3"
  },
  "language_info": {
   "codemirror_mode": {
    "name": "ipython",
    "version": 3
   },
   "file_extension": ".py",
   "mimetype": "text/x-python",
   "name": "python",
   "nbconvert_exporter": "python",
   "pygments_lexer": "ipython3",
   "version": "3.9.13"
  },
  "widgets": {
   "application/vnd.jupyter.widget-state+json": {
    "state": {
     "0480a19b19d343f8a841eddf1b2594ed": {
      "model_module": "@jupyter-widgets/base",
      "model_module_version": "1.2.0",
      "model_name": "LayoutModel",
      "state": {}
     },
     "063bd14a73534720a8018bd9c29c84a4": {
      "buffers": [
       {
        "data": "xLM4HPfNCD/k368kXqgGP3KjEMZ7rgc/pJxq+2sjBT9GroVaX4ENP1FemmxgTwg/UV6abGBPCD/7jWw18eUIP+bqK7HSQAk/lX3lVW8XCT8D005tErEDP2YGinb4Og0/afU1F+CECj/4OMBcPGsQP0oYln+Tfw0/kn90G4mlET+kqATMbpMLPzj5ObeWvwk/A4HLB61mCj+55Luj4z8LP0ASViS3Hw4/FegFPpo3Cz/8wG6IxlQNP/Rs1dJYIBE/",
        "encoding": "base64",
        "path": [
         "_data",
         2,
         "x",
         "value"
        ]
       },
       {
        "data": "ZpPPdLIapz747AYxTOeiPqDms5ZlNJk+muazlmU0mT4OH1B+3RunPuTqtdtA6KI+X203ckhpnT74BAMtDwKVPqYZVcKmFqk+Q9O/Ef3Qoj6IVyMybv+mPmWV8aE16KQ+o2auxZ23sj5JtiRXaq2xPu+I6FzS9Jg+Bhc4NNHBsz69m34icgSnPiwVZ7TMM6s+F1+K2cTspD5XIpaQF9WiPlW23xYw3KI+lsbNsYNWrT5P89RzlSWZPhwg3DWn9KQ+eKGrzqS5sD7XiVYCDui0PtGJVgIO6JQ+M3IBNncWqT4=",
        "encoding": "base64",
        "path": [
         "_data",
         3,
         "x",
         "value"
        ]
       },
       {
        "data": "nR9lJskp6z8BtbvHVYnqP4Ev10FQtes/NDMQIeqo6z8wF1NcuVDrP6PvLRbzhus/o+8tFvOG6z82JzkSoXXrP9YBpLV7qes/BXydZod87D9SGQf2ylzrP1HRIguDHus/dkIBw/5V7D8fMhdI+0nsP6ddSIauDuw/jhYFt8L06z8ZzTA2+EDsP66PsCqnvuw/44423jQD6z8EZ7yUU3LrP6+hvIby+us/relP6z2x7D8Sd86SeInrP0EtKgqnzOs/",
        "encoding": "base64",
        "path": [
         "_data",
         4,
         "x",
         "value"
        ]
       },
       {
        "data": "EAm8/ZDA6z9ddNFFF13sP5TTUU5HOe0/IiIiIiIi6j91p9WdVnfqP/2gowJfXO0/sdzTCMs97T9orA+N9aHhP7PLLrvssus/aWlpaWlp7T8fwX0E9xHsP1TH3towze0/iwN89Gzl7T/1nY36zkbtPy0tLS0tLe0/Sw5xlSlg7j8vLEZCaePtP57YiZ3Yie0/B9Hju3AQ7T8N0iAN0iDtP5qZmZmZmek/B1Pks24w7T87qIM6qIPqP57YiZ3Yie0/Hh4eHh4e7j8XGrCklz/tP9d1Xdd1Xe8/VVVVVVVV7T8=",
        "encoding": "base64",
        "path": [
         "_data",
         5,
         "x",
         "value"
        ]
       },
       {
        "data": "vmxPWaZoMUD+NG8NwmQvQE+qr2R+FjZAAAAAAADaNEDTX2Jzj0ovQIQQQgghBDJAhBBCCCEEMkB/v9/v93swQJMF6z/xoDVAC3xx9YPuOUBKr784GUQ1QGGlpxZWujJAz9jF6583OkApIAa4zQ45QBVxSjLDXThAGv5LIPTaNUB25xQn+085QF8vNjXsiD1AmaODYDfpMECfqB408s4zQBLcR3AfUTdAhP1WG0PzPEBKIC7UnCQ0QE82tD6KEDRA",
        "encoding": "base64",
        "path": [
         "_data",
         6,
         "x",
         "value"
        ]
       },
       {
        "data": "0UUXXXTRIUAAAAAAAAAqQKuqqqqqqkBAVVVVVVVVIEAAAAAAAAAkQHIcx3EcxyNAkiRJkiRJLkCamZmZmZkVQFVVVVVV1SpAchzHcRzHK0BGF1100UUrQGZmZmZmZihAAAAAAAAALkA8PDw8PDwkQKuqqqqqqiRA8xrKayivI0C66KKLLrowQAAAAAAAAChAzczMzMzMI0DkOI7jOI4vQDmO4ziO4xhAkiRJkiRJI0BVVVVVVVUjQM3MzMzMzCBAAAAAAAAAKkAzMzMzM7MsQDMzMzMzs0hAVVVVVVXVJ0A=",
        "encoding": "base64",
        "path": [
         "_data",
         7,
         "x",
         "value"
        ]
       },
       {
        "data": "7/ymCg42lUC4eSufRbqTQArzswWk3ZxAQzM/JvZfl0BhJ6NKtT+SQJJzVvIIvJVAknNW8gi8lUBU+3IQQlyRQOG4Yh5MfqBAQkc9JewDnEBUl2B1BaabQB2jTgX7T5tAR/Vcay1AoUDAhVzOVsSfQE9gGdFVJKBAiaAKDmVJn0AkvN9x6xaiQOlw3I1KAqBA6izyX0Gcl0CaRV+wwZKcQG4NTVNIM6JAm+5Al5XVoEBsoVJzWn6gQPkqGkzbwZpA",
        "encoding": "base64",
        "path": [
         "_data",
         8,
         "x",
         "value"
        ]
       },
       {
        "data": "HHTR9+5acUACVlXBD7V2QJ1VdRoMjJFAVFVV1wLHa0ApdNFHPeNxQL5xHK2g/m9AbpKkR/gmdECOmZnZNvlYQExVFTQFdH5ANXIctsdncEB9uuheoqyIQFTMzFW6W3JAOVVVPAb0dUBTHh5ulXNxQFP//xExhWhA9a6hwxFEcEAxowuC0+B2QIGd2O5SgXFAuZmZ8+JzZkBQVXUVF1FwQBE4jtuFTHVACdu2thdockB3VlWutOxtQBsAgOsrcm1AbQAwQT9ockCxZWbofNVzQBbPzBrZpX5AWQCg1FpqekA=",
        "encoding": "base64",
        "path": [
         "_data",
         9,
         "x",
         "value"
        ]
       },
       {
        "data": "K7fKGsI+wD9U2QuXd+TAP+b5W1Thrrk/uvlkFkSQtD8JjTZ9bS+2P+3KpZc7YbQ/7cqllzthtD8aXqDbURK3P3vV8wdmP8E/BZ/q3tZgsj9oQAKh3ua2Pxl7Gw5lC7Q/14LAbQT8vD+HczAxv3a+Px3a7LLPNbI/fmUd+qjCwD/aFRndZKa0PwgrBGzLhsc/qHQnraL7sT+bnxGtvqyxP1q8EPwQS74/vy1geVKJxz8SJ3+5jna4P46/7g8+bME/",
        "encoding": "base64",
        "path": [
         "_data",
         10,
         "x",
         "value"
        ]
       },
       {
        "data": "bSX69/g1qT8QIgEonBunP68x7kANFKU/d9WFl6vesz90YmS0vbysP7ZD7hg+09k/y3P9KgitrT9/exTnnqXUP1g3pAe7xP4/VaHPQ1SLsD8/Mk/q3xm4P22bpgrXW7E/r7Vxz3liuj+borwnPpatP/o377jNXLM/GkmyUiz+tD95cdcS4cqoP9L2bGoDnLg/KOnoQ0HDxD97N7xo8+nLPwyIC8FvOL0/5pr61Czeoz+DH4g75NCqPzt/10TRKa0/Wi11krHXrD93kEZ0ZEK0Py1NzICzd7I/nIJnYcmgtT8=",
        "encoding": "base64",
        "path": [
         "_data",
         11,
         "x",
         "value"
        ]
       },
       {
        "data": "R9AzvBAzDUE5BS+dhs4JQYejDi+7dBFBmpn1ODe3EEEAN1KeDU8JQe2ySxeThAtB7bJLF5OEC0F05Bw7GIULQSOp7ObnNRFBIHRUl22qFUE9LtKkmj4QQYgE3ibKAg9BkKxzhJG7FUFbTifGgQYYQQvf45AOXBNB3KNlKH1HEkH4i/qBIPMTQYVOVraQXRlBZfIyX3LoDEF0bclBKjMPQQnu48I9WRRBIz5BY+5MGkGtGwy1JdgRQbLwtfOImBRB",
        "encoding": "base64",
        "path": [
         "_data",
         12,
         "x",
         "value"
        ]
       },
       {
        "data": "XXTRVW/l+ECO4zjW2x4BQVVVVS34qxVBAAAAEAQr/UBGF108YO8BQY7jOLaLUv1AAAAAQPTdA0FmZmY2p33wQKuqqqHTeQFBchzHSfNjCUF00UXHxXoAQWZmZpIZQARBOY7jzGN2BUEAAAAoqOv6QAAAAIzZ/wVB2FBeC+6W+UDpoos+AscGQTuxE9sLrAJBAAAAnNyB/UCrqqrSDLoKQQAAABAcNu1AkiRJ/oU1/kBVVVVl/b35QJqZmZFhHvZAAACAcNSmAEFmZmYCYKEGQc3MzHTHOSBBAAAAVqI8AEE=",
        "encoding": "base64",
        "path": [
         "_data",
         13,
         "x",
         "value"
        ]
       },
       {
        "data": "/XdgSy3HyEA8aUVNN7LHQKQEv+1Pk8hAAACAnnfSx0Dmw4sVrePIQB555HvSXMdAHnnke9Jcx0DFN/FNUBjIQPFlrUsoRsdAZBq2y+O5yEAqvf6CkW/HQDAbNKUs0shALhtBtR5FyEDuUX1fSrbJQIwEMKtObMhAb7WmAzt8yUBzD4EOJQTIQFhts/vxMshAuFxj9j2EyEC2unUwRybIQJnOYrBRIMpAk/OyQrjGyUDyWTeQ2wrJQGh9FOF6estA",
        "encoding": "base64",
        "path": [
         "_data",
         14,
         "x",
         "value"
        ]
       },
       {
        "data": "RhddlDnbxUBVVVV1DYLEQAAAAPAWu8RAq6qqGhteyUC66KJLArzKQBzHcbyaacZAAAAAQM+NxkCamZkZNSDJQAAAAMiuR8hAx3EcJ4h5yEDRRRd9vPzDQJqZmWnzGMdAchzHwahOxkBaWlp6QCjEQAAAAICFn8hAQ3kNxfmYw0AvuugCZ0bEQHZiJ9ZYV8dAAAAAYEQoxkAcx3Fc7vnJQOQ4juM41MJAJUmShIb7x0Crqqo6yerEQM3MzOyY68RAAAAAkfhwxkAzMzMr5hjIQJqZmbnHrslAq6qqMm89x0A=",
        "encoding": "base64",
        "path": [
         "_data",
         15,
         "x",
         "value"
        ]
       },
       {
        "data": "m1fxdDDykkAorah65vqRQP4YojJzfpVAmpk5lKEHk0AWB6EIlWOLQPrpp5lp3Y5A+umnmWndjkDxTXzLN0CKQLqtJsJjfZ9AVz/oUtGglUA1IVGv+nmgQFjpqRHjeZpA4rIRxLQpl0CZfjDmyhmUQMD5nVQd65ZAhv8SyAq8lECsbe6RgpGZQIQF89cY9p1AYqEycAPDmUAwN8SQ/0KZQC2mM0ZCdqJA6g72ucgFnkBcqDnpa4ShQN4xjvDqhp5A",
        "encoding": "base64",
        "path": [
         "_data",
         16,
         "x",
         "value"
        ]
       },
       {
        "data": "L7roIo8jfUByHMeR6+V+QFVVVYXX/YFAVVVVleY8fUDpoosOeJ57QHIcx7HcUHhASZIkydL0e0DNzMws+g16QFVVVZ3o6HlAchzHsaOGfEC66KJbslyAQDMzM9NASXhAx3EcV6QQeEB4eHjYHn94QKuqqsrqoXpAKK+hfF4veEDpoovOoNd3QLETOzHaqnVAZmZm5mnBdkAAAABAeVB3QBzHcWx8+IRASZIkqWqofUAAAACQ/jB9QDMzMyPh3XlAAAAAckuAfEBmZmaOSPp7QJqZmXmxdn9Aq6qqunDFgEA=",
        "encoding": "base64",
        "path": [
         "_data",
         17,
         "x",
         "value"
        ]
       }
      ],
      "model_module": "plotlywidget",
      "model_module_version": "^4.14.3",
      "model_name": "FigureModel",
      "state": {
       "_config": {
        "plotlyServerURL": "https://plot.ly"
       },
       "_data": [
        {
         "boxpoints": "all",
         "marker": {
          "color": "#4C78A8",
          "size": 5
         },
         "name": "dense",
         "type": "box",
         "uid": "703e66b8-1137-446c-adf0-7738882c60bc",
         "width": 0.5,
         "x": [
          751,
          686,
          717,
          640,
          903,
          744,
          744,
          762,
          781,
          776,
          609,
          904,
          810,
          1003,
          901,
          1078,
          845,
          789,
          809,
          835,
          912,
          824,
          888,
          1037
         ],
         "xaxis": "x",
         "yaxis": "y"
        },
        {
         "boxpoints": "all",
         "marker": {
          "color": "#F58518",
          "size": 5
         },
         "name": "sparse",
         "type": "box",
         "uid": "318a59b6-2a36-4f83-b64d-d20087b90a9a",
         "width": 0.5,
         "x": [
          11,
          9,
          6,
          6,
          11,
          9,
          7,
          5,
          12,
          9,
          11,
          10,
          18,
          17,
          6,
          19,
          11,
          13,
          10,
          9,
          9,
          14,
          6,
          10,
          16,
          20,
          5,
          12
         ],
         "xaxis": "x",
         "yaxis": "y"
        },
        {
         "boxpoints": "all",
         "marker": {
          "color": "#4C78A8",
          "size": 5
         },
         "name": "dense",
         "type": "box",
         "uid": "7a4e90fb-5be8-4bfe-a2cd-3450012605d3",
         "width": 0.5,
         "x": {
          "dtype": "float64",
          "shape": [
           24
          ]
         },
         "xaxis": "x2",
         "yaxis": "y2"
        },
        {
         "boxpoints": "all",
         "marker": {
          "color": "#F58518",
          "size": 5
         },
         "name": "sparse",
         "type": "box",
         "uid": "4e90f303-6cf9-4325-acdc-e680771120b1",
         "width": 0.5,
         "x": {
          "dtype": "float64",
          "shape": [
           28
          ]
         },
         "xaxis": "x2",
         "yaxis": "y2"
        },
        {
         "boxpoints": "all",
         "marker": {
          "color": "#4C78A8",
          "size": 5
         },
         "name": "dense",
         "type": "box",
         "uid": "7a909aff-ad20-4f92-bbfc-c95a6b7cc2c3",
         "width": 0.5,
         "x": {
          "dtype": "float64",
          "shape": [
           24
          ]
         },
         "xaxis": "x3",
         "yaxis": "y3"
        },
        {
         "boxpoints": "all",
         "marker": {
          "color": "#F58518",
          "size": 5
         },
         "name": "sparse",
         "type": "box",
         "uid": "b178e691-67f1-475e-b795-1d791aa66868",
         "width": 0.5,
         "x": {
          "dtype": "float64",
          "shape": [
           28
          ]
         },
         "xaxis": "x3",
         "yaxis": "y3"
        },
        {
         "boxpoints": "all",
         "marker": {
          "color": "#4C78A8",
          "size": 5
         },
         "name": "dense",
         "type": "box",
         "uid": "22fcba03-55a2-490f-86a6-a221629a943b",
         "width": 0.5,
         "x": {
          "dtype": "float64",
          "shape": [
           24
          ]
         },
         "xaxis": "x4",
         "yaxis": "y4"
        },
        {
         "boxpoints": "all",
         "marker": {
          "color": "#F58518",
          "size": 5
         },
         "name": "sparse",
         "type": "box",
         "uid": "b708b5ae-e57e-44ab-9552-d96e05d9c935",
         "width": 0.5,
         "x": {
          "dtype": "float64",
          "shape": [
           28
          ]
         },
         "xaxis": "x4",
         "yaxis": "y4"
        },
        {
         "boxpoints": "all",
         "marker": {
          "color": "#4C78A8",
          "size": 5
         },
         "name": "dense",
         "type": "box",
         "uid": "478ad7d3-40dd-4d21-8106-4093e9bf0404",
         "width": 0.5,
         "x": {
          "dtype": "float64",
          "shape": [
           24
          ]
         },
         "xaxis": "x5",
         "yaxis": "y5"
        },
        {
         "boxpoints": "all",
         "marker": {
          "color": "#F58518",
          "size": 5
         },
         "name": "sparse",
         "type": "box",
         "uid": "a4216b77-cf5b-43f6-9be9-c339e61f0842",
         "width": 0.5,
         "x": {
          "dtype": "float64",
          "shape": [
           28
          ]
         },
         "xaxis": "x5",
         "yaxis": "y5"
        },
        {
         "boxpoints": "all",
         "marker": {
          "color": "#4C78A8",
          "size": 5
         },
         "name": "dense",
         "type": "box",
         "uid": "a747f187-dd5c-4239-be21-15712e8232c3",
         "width": 0.5,
         "x": {
          "dtype": "float64",
          "shape": [
           24
          ]
         },
         "xaxis": "x6",
         "yaxis": "y6"
        },
        {
         "boxpoints": "all",
         "marker": {
          "color": "#F58518",
          "size": 5
         },
         "name": "sparse",
         "type": "box",
         "uid": "819e72be-d527-4c66-9eb0-ff6e5255885a",
         "width": 0.5,
         "x": {
          "dtype": "float64",
          "shape": [
           28
          ]
         },
         "xaxis": "x6",
         "yaxis": "y6"
        },
        {
         "boxpoints": "all",
         "marker": {
          "color": "#4C78A8",
          "size": 5
         },
         "name": "dense",
         "type": "box",
         "uid": "112993d3-7b77-45a1-ba39-e58ee65f4423",
         "width": 0.5,
         "x": {
          "dtype": "float64",
          "shape": [
           24
          ]
         },
         "xaxis": "x7",
         "yaxis": "y7"
        },
        {
         "boxpoints": "all",
         "marker": {
          "color": "#F58518",
          "size": 5
         },
         "name": "sparse",
         "type": "box",
         "uid": "b03265f8-2084-44f4-80e6-30be388175b0",
         "width": 0.5,
         "x": {
          "dtype": "float64",
          "shape": [
           28
          ]
         },
         "xaxis": "x7",
         "yaxis": "y7"
        },
        {
         "boxpoints": "all",
         "marker": {
          "color": "#4C78A8",
          "size": 5
         },
         "name": "dense",
         "type": "box",
         "uid": "df83f977-0604-445c-8b3e-88f833a5b7ad",
         "width": 0.5,
         "x": {
          "dtype": "float64",
          "shape": [
           24
          ]
         },
         "xaxis": "x8",
         "yaxis": "y8"
        },
        {
         "boxpoints": "all",
         "marker": {
          "color": "#F58518",
          "size": 5
         },
         "name": "sparse",
         "type": "box",
         "uid": "50e0d9af-c077-473e-b2df-b619d27cada7",
         "width": 0.5,
         "x": {
          "dtype": "float64",
          "shape": [
           28
          ]
         },
         "xaxis": "x8",
         "yaxis": "y8"
        },
        {
         "boxpoints": "all",
         "marker": {
          "color": "#4C78A8",
          "size": 5
         },
         "name": "dense",
         "type": "box",
         "uid": "057d55e8-c0fe-420d-ac4f-ac6b30723e87",
         "width": 0.5,
         "x": {
          "dtype": "float64",
          "shape": [
           24
          ]
         },
         "xaxis": "x9",
         "yaxis": "y9"
        },
        {
         "boxpoints": "all",
         "marker": {
          "color": "#F58518",
          "size": 5
         },
         "name": "sparse",
         "type": "box",
         "uid": "fe432ee1-cae6-4f13-a822-44dccd5c9cd3",
         "width": 0.5,
         "x": {
          "dtype": "float64",
          "shape": [
           28
          ]
         },
         "xaxis": "x9",
         "yaxis": "y9"
        }
       ],
       "_js2py_layoutDelta": {},
       "_js2py_pointsCallback": {},
       "_js2py_relayout": {},
       "_js2py_restyle": {},
       "_js2py_traceDeltas": {},
       "_js2py_update": {},
       "_layout": {
        "annotations": [
         {
          "font": {
           "size": 16
          },
          "showarrow": false,
          "text": "cluster_count",
          "x": 0.5,
          "xanchor": "center",
          "xref": "paper",
          "y": 1,
          "yanchor": "bottom",
          "yref": "paper"
         },
         {
          "font": {
           "size": 16
          },
          "showarrow": false,
          "text": "cluster_density",
          "x": 0.5,
          "xanchor": "center",
          "xref": "paper",
          "y": 0.8877777777777778,
          "yanchor": "bottom",
          "yref": "paper"
         },
         {
          "font": {
           "size": 16
          },
          "showarrow": false,
          "text": "n_locs_in_cluster_relative",
          "x": 0.5,
          "xanchor": "center",
          "xref": "paper",
          "y": 0.7755555555555556,
          "yanchor": "bottom",
          "yref": "paper"
         },
         {
          "font": {
           "size": 16
          },
          "showarrow": false,
          "text": "localization_count_mean",
          "x": 0.5,
          "xanchor": "center",
          "xref": "paper",
          "y": 0.6633333333333334,
          "yanchor": "bottom",
          "yref": "paper"
         },
         {
          "font": {
           "size": 16
          },
          "showarrow": false,
          "text": "region_measure_ch_mean",
          "x": 0.5,
          "xanchor": "center",
          "xref": "paper",
          "y": 0.5511111111111111,
          "yanchor": "bottom",
          "yref": "paper"
         },
         {
          "font": {
           "size": 16
          },
          "showarrow": false,
          "text": "localization_density_in_cluster_mean",
          "x": 0.5,
          "xanchor": "center",
          "xref": "paper",
          "y": 0.4388888888888889,
          "yanchor": "bottom",
          "yref": "paper"
         },
         {
          "font": {
           "size": 16
          },
          "showarrow": false,
          "text": "intensity_sum_mean",
          "x": 0.5,
          "xanchor": "center",
          "xref": "paper",
          "y": 0.32666666666666666,
          "yanchor": "bottom",
          "yref": "paper"
         },
         {
          "font": {
           "size": 16
          },
          "showarrow": false,
          "text": "intensity_mean_mean",
          "x": 0.5,
          "xanchor": "center",
          "xref": "paper",
          "y": 0.21444444444444444,
          "yanchor": "bottom",
          "yref": "paper"
         },
         {
          "font": {
           "size": 16
          },
          "showarrow": false,
          "text": "local_background_mean_mean",
          "x": 0.5,
          "xanchor": "center",
          "xref": "paper",
          "y": 0.10222222222222223,
          "yanchor": "bottom",
          "yref": "paper"
         }
        ],
        "boxmode": "group",
        "height": 12000,
        "showlegend": false,
        "template": {
         "data": {
          "bar": [
           {
            "error_x": {
             "color": "#2a3f5f"
            },
            "error_y": {
             "color": "#2a3f5f"
            },
            "marker": {
             "line": {
              "color": "#E5ECF6",
              "width": 0.5
             }
            },
            "type": "bar"
           }
          ],
          "barpolar": [
           {
            "marker": {
             "line": {
              "color": "#E5ECF6",
              "width": 0.5
             }
            },
            "type": "barpolar"
           }
          ],
          "carpet": [
           {
            "aaxis": {
             "endlinecolor": "#2a3f5f",
             "gridcolor": "white",
             "linecolor": "white",
             "minorgridcolor": "white",
             "startlinecolor": "#2a3f5f"
            },
            "baxis": {
             "endlinecolor": "#2a3f5f",
             "gridcolor": "white",
             "linecolor": "white",
             "minorgridcolor": "white",
             "startlinecolor": "#2a3f5f"
            },
            "type": "carpet"
           }
          ],
          "choropleth": [
           {
            "colorbar": {
             "outlinewidth": 0,
             "ticks": ""
            },
            "type": "choropleth"
           }
          ],
          "contour": [
           {
            "colorbar": {
             "outlinewidth": 0,
             "ticks": ""
            },
            "colorscale": [
             [
              0,
              "#0d0887"
             ],
             [
              0.1111111111111111,
              "#46039f"
             ],
             [
              0.2222222222222222,
              "#7201a8"
             ],
             [
              0.3333333333333333,
              "#9c179e"
             ],
             [
              0.4444444444444444,
              "#bd3786"
             ],
             [
              0.5555555555555556,
              "#d8576b"
             ],
             [
              0.6666666666666666,
              "#ed7953"
             ],
             [
              0.7777777777777778,
              "#fb9f3a"
             ],
             [
              0.8888888888888888,
              "#fdca26"
             ],
             [
              1,
              "#f0f921"
             ]
            ],
            "type": "contour"
           }
          ],
          "contourcarpet": [
           {
            "colorbar": {
             "outlinewidth": 0,
             "ticks": ""
            },
            "type": "contourcarpet"
           }
          ],
          "heatmap": [
           {
            "colorbar": {
             "outlinewidth": 0,
             "ticks": ""
            },
            "colorscale": [
             [
              0,
              "#0d0887"
             ],
             [
              0.1111111111111111,
              "#46039f"
             ],
             [
              0.2222222222222222,
              "#7201a8"
             ],
             [
              0.3333333333333333,
              "#9c179e"
             ],
             [
              0.4444444444444444,
              "#bd3786"
             ],
             [
              0.5555555555555556,
              "#d8576b"
             ],
             [
              0.6666666666666666,
              "#ed7953"
             ],
             [
              0.7777777777777778,
              "#fb9f3a"
             ],
             [
              0.8888888888888888,
              "#fdca26"
             ],
             [
              1,
              "#f0f921"
             ]
            ],
            "type": "heatmap"
           }
          ],
          "heatmapgl": [
           {
            "colorbar": {
             "outlinewidth": 0,
             "ticks": ""
            },
            "colorscale": [
             [
              0,
              "#0d0887"
             ],
             [
              0.1111111111111111,
              "#46039f"
             ],
             [
              0.2222222222222222,
              "#7201a8"
             ],
             [
              0.3333333333333333,
              "#9c179e"
             ],
             [
              0.4444444444444444,
              "#bd3786"
             ],
             [
              0.5555555555555556,
              "#d8576b"
             ],
             [
              0.6666666666666666,
              "#ed7953"
             ],
             [
              0.7777777777777778,
              "#fb9f3a"
             ],
             [
              0.8888888888888888,
              "#fdca26"
             ],
             [
              1,
              "#f0f921"
             ]
            ],
            "type": "heatmapgl"
           }
          ],
          "histogram": [
           {
            "marker": {
             "colorbar": {
              "outlinewidth": 0,
              "ticks": ""
             }
            },
            "type": "histogram"
           }
          ],
          "histogram2d": [
           {
            "colorbar": {
             "outlinewidth": 0,
             "ticks": ""
            },
            "colorscale": [
             [
              0,
              "#0d0887"
             ],
             [
              0.1111111111111111,
              "#46039f"
             ],
             [
              0.2222222222222222,
              "#7201a8"
             ],
             [
              0.3333333333333333,
              "#9c179e"
             ],
             [
              0.4444444444444444,
              "#bd3786"
             ],
             [
              0.5555555555555556,
              "#d8576b"
             ],
             [
              0.6666666666666666,
              "#ed7953"
             ],
             [
              0.7777777777777778,
              "#fb9f3a"
             ],
             [
              0.8888888888888888,
              "#fdca26"
             ],
             [
              1,
              "#f0f921"
             ]
            ],
            "type": "histogram2d"
           }
          ],
          "histogram2dcontour": [
           {
            "colorbar": {
             "outlinewidth": 0,
             "ticks": ""
            },
            "colorscale": [
             [
              0,
              "#0d0887"
             ],
             [
              0.1111111111111111,
              "#46039f"
             ],
             [
              0.2222222222222222,
              "#7201a8"
             ],
             [
              0.3333333333333333,
              "#9c179e"
             ],
             [
              0.4444444444444444,
              "#bd3786"
             ],
             [
              0.5555555555555556,
              "#d8576b"
             ],
             [
              0.6666666666666666,
              "#ed7953"
             ],
             [
              0.7777777777777778,
              "#fb9f3a"
             ],
             [
              0.8888888888888888,
              "#fdca26"
             ],
             [
              1,
              "#f0f921"
             ]
            ],
            "type": "histogram2dcontour"
           }
          ],
          "mesh3d": [
           {
            "colorbar": {
             "outlinewidth": 0,
             "ticks": ""
            },
            "type": "mesh3d"
           }
          ],
          "parcoords": [
           {
            "line": {
             "colorbar": {
              "outlinewidth": 0,
              "ticks": ""
             }
            },
            "type": "parcoords"
           }
          ],
          "pie": [
           {
            "automargin": true,
            "type": "pie"
           }
          ],
          "scatter": [
           {
            "marker": {
             "colorbar": {
              "outlinewidth": 0,
              "ticks": ""
             }
            },
            "type": "scatter"
           }
          ],
          "scatter3d": [
           {
            "line": {
             "colorbar": {
              "outlinewidth": 0,
              "ticks": ""
             }
            },
            "marker": {
             "colorbar": {
              "outlinewidth": 0,
              "ticks": ""
             }
            },
            "type": "scatter3d"
           }
          ],
          "scattercarpet": [
           {
            "marker": {
             "colorbar": {
              "outlinewidth": 0,
              "ticks": ""
             }
            },
            "type": "scattercarpet"
           }
          ],
          "scattergeo": [
           {
            "marker": {
             "colorbar": {
              "outlinewidth": 0,
              "ticks": ""
             }
            },
            "type": "scattergeo"
           }
          ],
          "scattergl": [
           {
            "marker": {
             "colorbar": {
              "outlinewidth": 0,
              "ticks": ""
             }
            },
            "type": "scattergl"
           }
          ],
          "scattermapbox": [
           {
            "marker": {
             "colorbar": {
              "outlinewidth": 0,
              "ticks": ""
             }
            },
            "type": "scattermapbox"
           }
          ],
          "scatterpolar": [
           {
            "marker": {
             "colorbar": {
              "outlinewidth": 0,
              "ticks": ""
             }
            },
            "type": "scatterpolar"
           }
          ],
          "scatterpolargl": [
           {
            "marker": {
             "colorbar": {
              "outlinewidth": 0,
              "ticks": ""
             }
            },
            "type": "scatterpolargl"
           }
          ],
          "scatterternary": [
           {
            "marker": {
             "colorbar": {
              "outlinewidth": 0,
              "ticks": ""
             }
            },
            "type": "scatterternary"
           }
          ],
          "surface": [
           {
            "colorbar": {
             "outlinewidth": 0,
             "ticks": ""
            },
            "colorscale": [
             [
              0,
              "#0d0887"
             ],
             [
              0.1111111111111111,
              "#46039f"
             ],
             [
              0.2222222222222222,
              "#7201a8"
             ],
             [
              0.3333333333333333,
              "#9c179e"
             ],
             [
              0.4444444444444444,
              "#bd3786"
             ],
             [
              0.5555555555555556,
              "#d8576b"
             ],
             [
              0.6666666666666666,
              "#ed7953"
             ],
             [
              0.7777777777777778,
              "#fb9f3a"
             ],
             [
              0.8888888888888888,
              "#fdca26"
             ],
             [
              1,
              "#f0f921"
             ]
            ],
            "type": "surface"
           }
          ],
          "table": [
           {
            "cells": {
             "fill": {
              "color": "#EBF0F8"
             },
             "line": {
              "color": "white"
             }
            },
            "header": {
             "fill": {
              "color": "#C8D4E3"
             },
             "line": {
              "color": "white"
             }
            },
            "type": "table"
           }
          ]
         },
         "layout": {
          "annotationdefaults": {
           "arrowcolor": "#2a3f5f",
           "arrowhead": 0,
           "arrowwidth": 1
          },
          "autotypenumbers": "strict",
          "coloraxis": {
           "colorbar": {
            "outlinewidth": 0,
            "ticks": ""
           }
          },
          "colorscale": {
           "diverging": [
            [
             0,
             "#8e0152"
            ],
            [
             0.1,
             "#c51b7d"
            ],
            [
             0.2,
             "#de77ae"
            ],
            [
             0.3,
             "#f1b6da"
            ],
            [
             0.4,
             "#fde0ef"
            ],
            [
             0.5,
             "#f7f7f7"
            ],
            [
             0.6,
             "#e6f5d0"
            ],
            [
             0.7,
             "#b8e186"
            ],
            [
             0.8,
             "#7fbc41"
            ],
            [
             0.9,
             "#4d9221"
            ],
            [
             1,
             "#276419"
            ]
           ],
           "sequential": [
            [
             0,
             "#0d0887"
            ],
            [
             0.1111111111111111,
             "#46039f"
            ],
            [
             0.2222222222222222,
             "#7201a8"
            ],
            [
             0.3333333333333333,
             "#9c179e"
            ],
            [
             0.4444444444444444,
             "#bd3786"
            ],
            [
             0.5555555555555556,
             "#d8576b"
            ],
            [
             0.6666666666666666,
             "#ed7953"
            ],
            [
             0.7777777777777778,
             "#fb9f3a"
            ],
            [
             0.8888888888888888,
             "#fdca26"
            ],
            [
             1,
             "#f0f921"
            ]
           ],
           "sequentialminus": [
            [
             0,
             "#0d0887"
            ],
            [
             0.1111111111111111,
             "#46039f"
            ],
            [
             0.2222222222222222,
             "#7201a8"
            ],
            [
             0.3333333333333333,
             "#9c179e"
            ],
            [
             0.4444444444444444,
             "#bd3786"
            ],
            [
             0.5555555555555556,
             "#d8576b"
            ],
            [
             0.6666666666666666,
             "#ed7953"
            ],
            [
             0.7777777777777778,
             "#fb9f3a"
            ],
            [
             0.8888888888888888,
             "#fdca26"
            ],
            [
             1,
             "#f0f921"
            ]
           ]
          },
          "colorway": [
           "#636efa",
           "#EF553B",
           "#00cc96",
           "#ab63fa",
           "#FFA15A",
           "#19d3f3",
           "#FF6692",
           "#B6E880",
           "#FF97FF",
           "#FECB52"
          ],
          "font": {
           "color": "#2a3f5f"
          },
          "geo": {
           "bgcolor": "white",
           "lakecolor": "white",
           "landcolor": "#E5ECF6",
           "showlakes": true,
           "showland": true,
           "subunitcolor": "white"
          },
          "hoverlabel": {
           "align": "left"
          },
          "hovermode": "closest",
          "mapbox": {
           "style": "light"
          },
          "paper_bgcolor": "white",
          "plot_bgcolor": "#E5ECF6",
          "polar": {
           "angularaxis": {
            "gridcolor": "white",
            "linecolor": "white",
            "ticks": ""
           },
           "bgcolor": "#E5ECF6",
           "radialaxis": {
            "gridcolor": "white",
            "linecolor": "white",
            "ticks": ""
           }
          },
          "scene": {
           "xaxis": {
            "backgroundcolor": "#E5ECF6",
            "gridcolor": "white",
            "gridwidth": 2,
            "linecolor": "white",
            "showbackground": true,
            "ticks": "",
            "zerolinecolor": "white"
           },
           "yaxis": {
            "backgroundcolor": "#E5ECF6",
            "gridcolor": "white",
            "gridwidth": 2,
            "linecolor": "white",
            "showbackground": true,
            "ticks": "",
            "zerolinecolor": "white"
           },
           "zaxis": {
            "backgroundcolor": "#E5ECF6",
            "gridcolor": "white",
            "gridwidth": 2,
            "linecolor": "white",
            "showbackground": true,
            "ticks": "",
            "zerolinecolor": "white"
           }
          },
          "shapedefaults": {
           "line": {
            "color": "#2a3f5f"
           }
          },
          "ternary": {
           "aaxis": {
            "gridcolor": "white",
            "linecolor": "white",
            "ticks": ""
           },
           "baxis": {
            "gridcolor": "white",
            "linecolor": "white",
            "ticks": ""
           },
           "bgcolor": "#E5ECF6",
           "caxis": {
            "gridcolor": "white",
            "linecolor": "white",
            "ticks": ""
           }
          },
          "title": {
           "x": 0.05
          },
          "xaxis": {
           "automargin": true,
           "gridcolor": "white",
           "linecolor": "white",
           "ticks": "",
           "title": {
            "standoff": 15
           },
           "zerolinecolor": "white",
           "zerolinewidth": 2
          },
          "yaxis": {
           "automargin": true,
           "gridcolor": "white",
           "linecolor": "white",
           "ticks": "",
           "title": {
            "standoff": 15
           },
           "zerolinecolor": "white",
           "zerolinewidth": 2
          }
         }
        },
        "title": {
         "text": "Averaged properties for each experimental group"
        },
        "width": 1000,
        "xaxis": {
         "anchor": "y",
         "domain": [
          0,
          1
         ]
        },
        "xaxis2": {
         "anchor": "y2",
         "domain": [
          0,
          1
         ]
        },
        "xaxis3": {
         "anchor": "y3",
         "domain": [
          0,
          1
         ]
        },
        "xaxis4": {
         "anchor": "y4",
         "domain": [
          0,
          1
         ]
        },
        "xaxis5": {
         "anchor": "y5",
         "domain": [
          0,
          1
         ]
        },
        "xaxis6": {
         "anchor": "y6",
         "domain": [
          0,
          1
         ]
        },
        "xaxis7": {
         "anchor": "y7",
         "domain": [
          0,
          1
         ]
        },
        "xaxis8": {
         "anchor": "y8",
         "domain": [
          0,
          1
         ]
        },
        "xaxis9": {
         "anchor": "y9",
         "domain": [
          0,
          1
         ]
        },
        "yaxis": {
         "anchor": "x",
         "domain": [
          0.8977777777777778,
          1
         ]
        },
        "yaxis2": {
         "anchor": "x2",
         "domain": [
          0.7855555555555556,
          0.8877777777777778
         ]
        },
        "yaxis3": {
         "anchor": "x3",
         "domain": [
          0.6733333333333333,
          0.7755555555555556
         ]
        },
        "yaxis4": {
         "anchor": "x4",
         "domain": [
          0.5611111111111112,
          0.6633333333333334
         ]
        },
        "yaxis5": {
         "anchor": "x5",
         "domain": [
          0.4488888888888889,
          0.5511111111111111
         ]
        },
        "yaxis6": {
         "anchor": "x6",
         "domain": [
          0.33666666666666667,
          0.4388888888888889
         ]
        },
        "yaxis7": {
         "anchor": "x7",
         "domain": [
          0.22444444444444445,
          0.32666666666666666
         ]
        },
        "yaxis8": {
         "anchor": "x8",
         "domain": [
          0.11222222222222222,
          0.21444444444444444
         ]
        },
        "yaxis9": {
         "anchor": "x9",
         "domain": [
          0,
          0.10222222222222223
         ]
        }
       },
       "_py2js_addTraces": {},
       "_py2js_animate": {},
       "_py2js_deleteTraces": {},
       "_py2js_moveTraces": {},
       "_py2js_relayout": {},
       "_py2js_removeLayoutProps": {},
       "_py2js_removeTraceProps": {},
       "_py2js_restyle": {},
       "_py2js_update": {},
       "_view_count": 0
      }
     },
     "197e2ea31c1148768867047d75c87634": {
      "model_module": "@jupyter-widgets/controls",
      "model_module_version": "1.5.0",
      "model_name": "ProgressStyleModel",
      "state": {
       "description_width": ""
      }
     },
     "1cece92d140f48a282fed7bf9c9a1bbf": {
      "model_module": "@jupyter-widgets/controls",
      "model_module_version": "1.5.0",
      "model_name": "DescriptionStyleModel",
      "state": {
       "description_width": ""
      }
     },
     "29122c864e2c452c98343cc284067544": {
      "model_module": "@jupyter-widgets/base",
      "model_module_version": "1.2.0",
      "model_name": "LayoutModel",
      "state": {}
     },
     "2ab9724502eb408bb99c9a16320cca1c": {
      "model_module": "@jupyter-widgets/base",
      "model_module_version": "1.2.0",
      "model_name": "LayoutModel",
      "state": {}
     },
     "42176b4cab51472993da2b79cc2ebc5f": {
      "model_module": "@jupyter-widgets/base",
      "model_module_version": "1.2.0",
      "model_name": "LayoutModel",
      "state": {}
     },
     "62f371f5ecc341f8ac3a532b2fbf81b5": {
      "model_module": "@jupyter-widgets/controls",
      "model_module_version": "1.5.0",
      "model_name": "FloatProgressModel",
      "state": {
       "bar_style": "success",
       "layout": "IPY_MODEL_29122c864e2c452c98343cc284067544",
       "max": 52,
       "style": "IPY_MODEL_197e2ea31c1148768867047d75c87634",
       "value": 52
      }
     },
     "92886cb55244461cbbc3be27bb9ab8c2": {
      "model_module": "@jupyter-widgets/controls",
      "model_module_version": "1.5.0",
      "model_name": "DescriptionStyleModel",
      "state": {
       "description_width": ""
      }
     },
     "af4c2cd6fd5a4e9d8c8e49729f53ecc1": {
      "model_module": "@jupyter-widgets/controls",
      "model_module_version": "1.5.0",
      "model_name": "HTMLModel",
      "state": {
       "layout": "IPY_MODEL_42176b4cab51472993da2b79cc2ebc5f",
       "style": "IPY_MODEL_92886cb55244461cbbc3be27bb9ab8c2",
       "value": "Processed pipelines:: 100%"
      }
     },
     "b9eb4a5113b649af9d9b10e8304230ea": {
      "model_module": "@jupyter-widgets/controls",
      "model_module_version": "1.5.0",
      "model_name": "HTMLModel",
      "state": {
       "layout": "IPY_MODEL_0480a19b19d343f8a841eddf1b2594ed",
       "style": "IPY_MODEL_1cece92d140f48a282fed7bf9c9a1bbf",
       "value": " 52/52 [00:00&lt;00:00, 640.27it/s]"
      }
     },
     "c076d63602f0467991576de229234573": {
      "model_module": "@jupyter-widgets/controls",
      "model_module_version": "1.5.0",
      "model_name": "HBoxModel",
      "state": {
       "children": [
        "IPY_MODEL_af4c2cd6fd5a4e9d8c8e49729f53ecc1",
        "IPY_MODEL_62f371f5ecc341f8ac3a532b2fbf81b5",
        "IPY_MODEL_b9eb4a5113b649af9d9b10e8304230ea"
       ],
       "layout": "IPY_MODEL_2ab9724502eb408bb99c9a16320cca1c"
      }
     }
    },
    "version_major": 2,
    "version_minor": 0
   }
  }
 },
 "nbformat": 4,
 "nbformat_minor": 4
}
