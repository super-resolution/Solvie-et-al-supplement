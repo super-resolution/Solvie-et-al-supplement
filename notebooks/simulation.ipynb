{
 "cells": [
  {
   "cell_type": "markdown",
   "id": "9f42da77-75bf-45ef-be27-5b500106c121",
   "metadata": {},
   "source": [
    "# Simulation of Myc distribution"
   ]
  },
  {
   "cell_type": "markdown",
   "id": "3278fcbf-ce7a-4bb7-8401-004b1db5133f",
   "metadata": {},
   "source": [
    "11.8.2021 (8.9.2022) Sören Doose"
   ]
  },
  {
   "cell_type": "code",
   "execution_count": null,
   "id": "71a224f1-15e7-4ce4-8631-a540655167bc",
   "metadata": {},
   "outputs": [],
   "source": [
    "import sys\n",
    "from pathlib import Path\n",
    "import re\n",
    "import logging\n",
    "import itertools\n",
    "\n",
    "%matplotlib inline\n",
    "\n",
    "import numpy as np\n",
    "import pandas as pd\n",
    "import matplotlib.pyplot as plt\n",
    "from matplotlib.colors import LogNorm\n",
    "from scipy import stats\n",
    "import boost_histogram as bh\n",
    "\n",
    "import locan as lc"
   ]
  },
  {
   "cell_type": "code",
   "execution_count": null,
   "id": "6713324d-d7bb-4193-9c9c-489b058a82c7",
   "metadata": {},
   "outputs": [],
   "source": [
    "lc.show_versions(dependencies=False)"
   ]
  },
  {
   "cell_type": "code",
   "execution_count": null,
   "id": "1f189fd5-98ca-4285-90ff-6a8f96a199b3",
   "metadata": {},
   "outputs": [],
   "source": [
    "logging.basicConfig(stream=sys.stdout, level=logging.INFO, format='%(asctime)s - %(name)s - %(levelname)s - %(message)s')\n",
    "logger = logging.getLogger()"
   ]
  },
  {
   "cell_type": "code",
   "execution_count": null,
   "id": "da5746c1-4fe1-460f-8ec8-a8f1d4d2f461",
   "metadata": {},
   "outputs": [],
   "source": [
    "rng = np.random.default_rng(seed=1)"
   ]
  },
  {
   "cell_type": "markdown",
   "id": "9b1e049a-4c0f-4ce5-bd31-21031cfefdb8",
   "metadata": {},
   "source": [
    "## Synthetic data"
   ]
  },
  {
   "cell_type": "markdown",
   "id": "678dee27-0679-453d-acdf-e63d99a0b7d7",
   "metadata": {},
   "source": [
    "SMLM data are simulated that resemble a homogeneous distribution of dyes where each dye provides several localizations (following a normal distribution with a std equal to the localization precision).\n",
    "This sort of clustered data is described by a Thomas point process if n_localizations_per_dye is taken from a Poisson distribution. For better resembling dSTORM data we take n_localizations_per_dye from a geometric distribution."
   ]
  },
  {
   "cell_type": "code",
   "execution_count": null,
   "id": "93407ecb-1786-459a-a6ae-05e1e64ddc12",
   "metadata": {},
   "outputs": [],
   "source": [
    "# endogeneous Myc, saturated labeling\n",
    "n_localizations_per_dye = 11\n",
    "min_localizations_per_dye = 1\n",
    "localization_density = 1.3e-3\n",
    "intensity_dyes = localization_density / n_localizations_per_dye\n",
    "localization_precision = 12\n",
    "# region = lc.Rectangle((0, 0), 4000, 4000, 0)\n",
    "region = lc.Rectangle((0, 0), 40_000, 40_000, 0)\n",
    "\n",
    "print(\"Intensity_dyes:\", intensity_dyes)"
   ]
  },
  {
   "cell_type": "raw",
   "id": "47b88b77-982c-468d-9685-6fdf606515b3",
   "metadata": {},
   "source": [
    "%%time\n",
    "locdata = lc.simulate_Thomas(parent_intensity=intensity_dyes, region=region, cluster_mu=n_localizations_per_dye, cluster_std=localization_precision, seed=rng)"
   ]
  },
  {
   "cell_type": "code",
   "execution_count": null,
   "id": "7887f2f2-1a84-460f-bb86-9b7a4cf645c7",
   "metadata": {},
   "outputs": [],
   "source": [
    "%%time\n",
    "locdata = lc.simulate_dstorm(parent_intensity=intensity_dyes, region=region, cluster_mu=n_localizations_per_dye, min_points=min_localizations_per_dye, cluster_std=localization_precision, seed=rng)"
   ]
  },
  {
   "cell_type": "code",
   "execution_count": null,
   "id": "c6d59ea2-0ae2-407e-a3c7-fe83de8d715f",
   "metadata": {},
   "outputs": [],
   "source": [
    "locdata.print_summary()"
   ]
  },
  {
   "cell_type": "code",
   "execution_count": null,
   "id": "02db11e2-f4de-4918-b0ef-54d360d393a4",
   "metadata": {},
   "outputs": [],
   "source": [
    "fig, ax = plt.subplots(nrows=1, ncols=1, figsize=(15, 12))\n",
    "lc.render_2d_mpl(locdata, bin_size=20);"
   ]
  },
  {
   "cell_type": "markdown",
   "id": "b3c1c0b9-8b8a-41d1-9f82-f962a0a8065e",
   "metadata": {},
   "source": [
    "## Cluster"
   ]
  },
  {
   "cell_type": "markdown",
   "id": "7c51d5d6-1467-47ac-9cc5-ec3915cd965d",
   "metadata": {},
   "source": [
    "Identify cluster by running a HDBSCAN or DBSCAN clustering routine."
   ]
  },
  {
   "cell_type": "code",
   "execution_count": null,
   "id": "2933425c-8c16-4a63-9ff6-026dfd80d149",
   "metadata": {},
   "outputs": [],
   "source": [
    "%%time\n",
    "noise, clust = lc.cluster_dbscan(locdata, eps=20, min_samples=3)  "
   ]
  },
  {
   "cell_type": "code",
   "execution_count": null,
   "id": "6919df34-e8c4-4682-b907-624fedd8e48d",
   "metadata": {
    "tags": [
     "hide-input"
    ]
   },
   "outputs": [],
   "source": [
    "n_clustered_loc = np.sum([ref.properties['localization_count'] for ref in clust.references])\n",
    "print(f\"Number of clusters: {clust.properties['localization_count']}\")\n",
    "print(f\"Number of noise localizations: {noise.properties['localization_count']}\")\n",
    "print(f\"Number of clustered localizations: {n_clustered_loc}\")\n",
    "print(f\"Ratio cluster to noise localizations: {n_clustered_loc / (n_clustered_loc + noise.properties['localization_count']):.3}\")"
   ]
  },
  {
   "cell_type": "code",
   "execution_count": null,
   "id": "f0c602bb-92c9-4ba9-aecc-b4bef2be6efd",
   "metadata": {},
   "outputs": [],
   "source": [
    "clust.data.localization_count.describe()"
   ]
  },
  {
   "cell_type": "code",
   "execution_count": null,
   "id": "ce45d575-fc1d-46da-ba39-9a1e25ec5e1c",
   "metadata": {},
   "outputs": [],
   "source": [
    "clust.update_convex_hulls_in_references()\n",
    "clust.data.fillna(0, inplace=True)"
   ]
  },
  {
   "cell_type": "raw",
   "id": "3861dffe-4911-4388-af63-62d2481dae45",
   "metadata": {},
   "source": [
    "clust.data.to_csv(\"simulated_dense_myc_clust.csv\")"
   ]
  },
  {
   "cell_type": "markdown",
   "id": "afd2f65d-6117-4c12-9cac-b3a571210f66",
   "metadata": {},
   "source": [
    "### Number of localizations per cluster"
   ]
  },
  {
   "cell_type": "code",
   "execution_count": null,
   "id": "709238e2-1217-4123-a53f-8fa64b3e6a25",
   "metadata": {
    "tags": [
     "hide-input"
    ]
   },
   "outputs": [],
   "source": [
    "clust_prop_nloc = lc.LocalizationProperty(loc_property='localization_count').compute(clust)"
   ]
  },
  {
   "cell_type": "code",
   "execution_count": null,
   "id": "7de4141d-0566-42ff-b0c3-971219ca82c7",
   "metadata": {
    "tags": [
     "hide-input"
    ]
   },
   "outputs": [],
   "source": [
    "clust_prop_nloc.hist(bins=100);"
   ]
  },
  {
   "cell_type": "code",
   "execution_count": null,
   "id": "a9d013b6-8641-4fbe-8ea3-874d874f759e",
   "metadata": {
    "tags": [
     "hide-input"
    ]
   },
   "outputs": [],
   "source": [
    "clust_prop_nloc.hist(bins=np.linspace(0, 100, 20));"
   ]
  },
  {
   "cell_type": "code",
   "execution_count": null,
   "id": "8ae7b47f-39cc-4e15-b3e3-1faa91732186",
   "metadata": {
    "tags": [
     "hide-input"
    ]
   },
   "outputs": [],
   "source": [
    "clust_prop_nloc.distribution_statistics.parameter_dict()"
   ]
  },
  {
   "cell_type": "markdown",
   "id": "b95a7501-fb98-488c-b8e1-b3226546b389",
   "metadata": {},
   "source": [
    "### Ratio of cluster above a certain size"
   ]
  },
  {
   "cell_type": "code",
   "execution_count": null,
   "id": "bac7e14c-be3b-45b9-b438-931d4ef16e89",
   "metadata": {},
   "outputs": [],
   "source": [
    "threshold = 100\n",
    "large_spot_ratio = len(clust.data.localization_count[clust.data.localization_count > threshold]) / clust.properties['localization_count']\n",
    "round(large_spot_ratio, ndigits=5)"
   ]
  },
  {
   "cell_type": "markdown",
   "id": "9244ae50-33fb-4556-b52d-e3c8d2942350",
   "metadata": {},
   "source": [
    "### Localizations in cluster above a certain size"
   ]
  },
  {
   "cell_type": "code",
   "execution_count": null,
   "id": "834c12a5-75b4-4642-ac7c-1e205893b83d",
   "metadata": {},
   "outputs": [],
   "source": [
    "threshold = 1100\n",
    "\n",
    "large_spot_localization_ratio = clust.data.localization_count[clust.data.localization_count > threshold].sum() / clust.data.localization_count.sum()\n",
    "round(large_spot_localization_ratio, ndigits=5)"
   ]
  },
  {
   "cell_type": "markdown",
   "id": "a479a7e3-4726-420f-a5e2-db6367eee715",
   "metadata": {},
   "source": [
    "### Ripley's H function computation"
   ]
  },
  {
   "cell_type": "code",
   "execution_count": null,
   "id": "049d47b3-cd59-4347-92ad-3fb002231e76",
   "metadata": {
    "tags": []
   },
   "outputs": [],
   "source": [
    "%%time\n",
    "n_points = 100\n",
    "radii = np.linspace(0, 500, 50)\n",
    "\n",
    "# data\n",
    "# rhf = lc.RipleysHFunction(radii=radii, region_measure=region.region_measure).compute(locdata=locdata)\n",
    "\n",
    "subset = lc.random_subset(locdata, n_points=n_points, seed=rng)\n",
    "rhf = lc.RipleysHFunction(radii=radii, region_measure=region.region_measure).compute(locdata, other_locdata=subset)\n",
    "\n",
    "\n",
    "# randomized\n",
    "locdata_csr = lc.randomize(locdata, hull_region=locdata.region, seed=rng)\n",
    "# rhf_csr = lc.RipleysHFunction(radii=radii, region_measure=region.region_measure).compute(locdata=locdata_csr)\n",
    "\n",
    "subset_csr = lc.random_subset(locdata_csr, n_points=n_points, seed=rng)\n",
    "rhf_csr = lc.RipleysHFunction(radii=radii, region_measure=region.region_measure).compute(locdata_csr, other_locdata=subset_csr)"
   ]
  },
  {
   "cell_type": "code",
   "execution_count": null,
   "id": "9467614e-f9cd-4df9-a7e8-f08c594149cc",
   "metadata": {},
   "outputs": [],
   "source": [
    "fig, ax = plt.subplots(nrows=1, ncols=1, figsize=(15,12))\n",
    "lc.render_2d_mpl(locdata_csr, bin_size=20);"
   ]
  },
  {
   "cell_type": "code",
   "execution_count": null,
   "id": "7f1f89ae-dd55-47e1-a3f7-8e566726c2ed",
   "metadata": {},
   "outputs": [],
   "source": [
    "rhf.plot()\n",
    "rhf_csr.plot()"
   ]
  }
 ],
 "metadata": {
  "kernelspec": {
   "display_name": "Python 3 (ipykernel)",
   "language": "python",
   "name": "python3"
  },
  "language_info": {
   "codemirror_mode": {
    "name": "ipython",
    "version": 3
   },
   "file_extension": ".py",
   "mimetype": "text/x-python",
   "name": "python",
   "nbconvert_exporter": "python",
   "pygments_lexer": "ipython3",
   "version": "3.9.13"
  },
  "widgets": {
   "application/vnd.jupyter.widget-state+json": {
    "state": {},
    "version_major": 2,
    "version_minor": 0
   }
  }
 },
 "nbformat": 4,
 "nbformat_minor": 5
}
